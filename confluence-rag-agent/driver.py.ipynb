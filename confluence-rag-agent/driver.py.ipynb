{
 "cells": [
  {
   "cell_type": "code",
   "execution_count": 0,
   "metadata": {
    "application/vnd.databricks.v1+cell": {
     "cellMetadata": {
      "byteLimit": 2048000,
      "rowLimit": 10000
     },
     "inputWidgets": {},
     "nuid": "5cf66200-1169-4f70-a40e-c0057baf4299",
     "showTitle": false,
     "tableResultSettingsMap": {},
     "title": ""
    }
   },
   "outputs": [],
   "source": [
    "%pip install -U -qqqq mlflow databricks-langchain databricks-agents uv langgraph==0.3.4"
   ]
  },
  {
   "cell_type": "code",
   "execution_count": 0,
   "metadata": {
    "application/vnd.databricks.v1+cell": {
     "cellMetadata": {
      "byteLimit": 2048000,
      "rowLimit": 10000
     },
     "inputWidgets": {},
     "nuid": "dd9e513b-a58e-40d5-8d76-f77d99b5d67e",
     "showTitle": false,
     "tableResultSettingsMap": {},
     "title": ""
    }
   },
   "outputs": [],
   "source": [
    "dbutils.library.restartPython()"
   ]
  },
  {
   "cell_type": "code",
   "execution_count": 0,
   "metadata": {
    "application/vnd.databricks.v1+cell": {
     "cellMetadata": {
      "byteLimit": 2048000,
      "rowLimit": 10000
     },
     "inputWidgets": {},
     "nuid": "a92a15ba-51c3-4dae-a615-c73a13b5e770",
     "showTitle": false,
     "tableResultSettingsMap": {},
     "title": ""
    }
   },
   "outputs": [],
   "source": [
    "%load_ext autoreload\n",
    "%autoreload 2"
   ]
  },
  {
   "cell_type": "markdown",
   "metadata": {
    "application/vnd.databricks.v1+cell": {
     "cellMetadata": {},
     "inputWidgets": {},
     "nuid": "6bb7b759-03aa-4142-827d-f26110037a3b",
     "showTitle": false,
     "tableResultSettingsMap": {},
     "title": ""
    }
   },
   "source": [
    "## Loggeamos el agente como un Mlflow Model"
   ]
  },
  {
   "cell_type": "code",
   "execution_count": 0,
   "metadata": {
    "application/vnd.databricks.v1+cell": {
     "cellMetadata": {
      "byteLimit": 2048000,
      "rowLimit": 10000
     },
     "inputWidgets": {},
     "nuid": "22488e90-c2a9-4071-9f02-1f0b4ce66fa7",
     "showTitle": false,
     "tableResultSettingsMap": {},
     "title": ""
    }
   },
   "outputs": [],
   "source": [
    "import mlflow\n",
    "from mlflow.models.resources import (\n",
    "    DatabricksServingEndpoint,\n",
    "    DatabricksVectorSearchIndex,\n",
    "    DatabricksFunction\n",
    ")\n",
    "from pkg_resources import get_distribution\n",
    "from mlflow.types.agent import ChatAgentMessage\n",
    "from databricks_langchain import ChatDatabricks\n",
    "from agent import RAG_AGENT, LLM_ENDPOINT_NAME\n",
    "import yaml\n",
    "\n",
    "# Load configurations from YAML files\n",
    "def load_config(config_file):\n",
    "    with open(config_file, 'r') as f:\n",
    "        return yaml.safe_load(f)\n",
    "\n",
    "# Load configurations\n",
    "rag_chain_config = load_config('rag_chain_config.yaml')\n",
    "data_pipeline_config = load_config('data_pipeline_config.yaml')\n",
    "destination_tables_config = load_config('destination_tables_config.yaml')\n",
    "\n",
    "# Get Vector Search configuration\n",
    "\n",
    "retriever_config = rag_chain_config.get('retriever_config')\n",
    "VECTOR_SEARCH_INDEX = retriever_config.get('vector_search_index')\n",
    "VECTOR_SEARCH_ENDPOINT = rag_chain_config.get('databricks_resources').get('vector_search_endpoint_name')\n",
    "llm_endpoint_name = rag_chain_config.get('databricks_resources').get('llm_endpoint_name')\n",
    "# Define resources needed by the agent\n",
    "resources = [\n",
    "    # LLM endpoint\n",
    "    DatabricksServingEndpoint(endpoint_name=llm_endpoint_name),\n",
    "    # Vector search index\n",
    "    DatabricksVectorSearchIndex(\n",
    "        index_name=VECTOR_SEARCH_INDEX\n",
    "    ),\n",
    "    # Python execution function\n",
    "    DatabricksFunction(function_name=\"system.ai.python_exec\")\n",
    "]\n",
    "\n",
    "# Set the registry URI to Unity Catalog\n",
    "mlflow.set_registry_uri(\"databricks-uc\")\n",
    "\n",
    "# Define the model name in Unity Catalog\n",
    "catalog_name = \"theodore_kop_personal\"\n",
    "schema_name = \"bcp\"\n",
    "model_name = \"bcp_confluence_rag_agent\"\n",
    "\n",
    "full_model_name = f\"{catalog_name}.{schema_name}.{model_name}\"\n",
    "\n",
    "with mlflow.start_run():\n",
    "    # Log the model\n",
    "    logged_agent_info = mlflow.pyfunc.log_model(\n",
    "        artifact_path=\"agent\",\n",
    "        python_model=\"agent.py\",\n",
    "        extra_pip_requirements=[\n",
    "            f\"databricks-connect=={get_distribution('databricks-connect').version}\",\n",
    "            \"databricks-sdk\",\n",
    "            \"langchain\",\n",
    "            \"langgraph\"\n",
    "        ],\n",
    "        resources=resources,\n",
    "        model_config=rag_chain_config,\n",
    "        input_example={\n",
    "            \"messages\": [\n",
    "                {\n",
    "                    \"role\": \"user\",\n",
    "                    \"content\": \"Qué es un EDV?\",\n",
    "                }\n",
    "            ]\n",
    "        }\n",
    "    )\n",
    "    \n",
    "    # Register the model to Unity Catalog\n",
    "    uc_model_info = mlflow.register_model(\n",
    "        model_uri=logged_agent_info.model_uri,\n",
    "        name=full_model_name\n",
    "    )\n",
    "    mlflow.log_dict(rag_chain_config, \"agent_chain_config.json\")\n",
    "\n",
    "print(f\"MLflow Run: {logged_agent_info.run_id}\")\n",
    "print(f\"Model URI: {logged_agent_info.model_uri}\")\n",
    "print(f\"Registered Model: {uc_model_info.name}\")\n",
    "print(f\"Version: {uc_model_info.version}\") "
   ]
  },
  {
   "cell_type": "markdown",
   "metadata": {
    "application/vnd.databricks.v1+cell": {
     "cellMetadata": {},
     "inputWidgets": {},
     "nuid": "fe5b800e-2ad0-444b-b573-bb49283a0711",
     "showTitle": false,
     "tableResultSettingsMap": {},
     "title": ""
    }
   },
   "source": [
    "## Test local"
   ]
  },
  {
   "cell_type": "code",
   "execution_count": 0,
   "metadata": {
    "application/vnd.databricks.v1+cell": {
     "cellMetadata": {
      "byteLimit": 2048000,
      "rowLimit": 10000
     },
     "inputWidgets": {},
     "nuid": "593a5a99-b6b1-4f77-9448-c4ad46a64cd2",
     "showTitle": false,
     "tableResultSettingsMap": {},
     "title": ""
    }
   },
   "outputs": [],
   "source": [
    "print(\"\\nTesting the logged model...\")\n",
    "\n",
    "# Example conversation with notebook path in the query\n",
    "messages = [\n",
    "    ChatAgentMessage(\n",
    "        role=\"user\", \n",
    "        content=\"¿Que es un EDV?\"\n",
    "    )\n",
    "]\n",
    "# Get the response\n",
    "response = RAG_AGENT.predict(messages=messages)\n",
    "print(\"Agent Response:\", response.messages[-1].content)\n",
    "\n",
    "# Example of a follow-up question (no need to include notebook path again)\n",
    "follow_up_messages = messages + [\n",
    "    ChatAgentMessage(role=\"assistant\", content=response.messages[-1].content),\n",
    "    ChatAgentMessage(role=\"user\", content=\"¿Como puedo realizar una solicitud de creación de uno nuevo?\")\n",
    "]\n",
    "\n",
    "# Get the follow-up response\n",
    "follow_up_response = RAG_AGENT.predict(messages=follow_up_messages)\n",
    "print(\"\\nFollow-up Response:\", follow_up_response.messages[-1].content)"
   ]
  },
  {
   "cell_type": "markdown",
   "metadata": {
    "application/vnd.databricks.v1+cell": {
     "cellMetadata": {},
     "inputWidgets": {},
     "nuid": "b1aefca0-f180-4d3b-a2c9-5656e8534bba",
     "showTitle": false,
     "tableResultSettingsMap": {},
     "title": ""
    }
   },
   "source": [
    "## Deploy agent"
   ]
  },
  {
   "cell_type": "code",
   "execution_count": 0,
   "metadata": {
    "application/vnd.databricks.v1+cell": {
     "cellMetadata": {
      "byteLimit": 2048000,
      "rowLimit": 10000
     },
     "inputWidgets": {},
     "nuid": "6b12a183-5708-4af3-b2bd-2561757d905d",
     "showTitle": false,
     "tableResultSettingsMap": {},
     "title": ""
    }
   },
   "outputs": [],
   "source": [
    "from databricks import agents\n",
    "import time\n",
    "from databricks.sdk import WorkspaceClient\n",
    "from databricks.sdk.service.serving import EndpointStateReady, EndpointStateConfigUpdate\n",
    "\n",
    "w = WorkspaceClient()\n",
    "\n",
    "deployment_info = agents.deploy(model_name=full_model_name, model_version=uc_model_info.version)\n",
    "\n",
    "browser_url = mlflow.utils.databricks_utils.get_browser_hostname()\n",
    "print(f\"\\n\\nView deployment status: https://{browser_url}/ml/endpoints/{deployment_info.endpoint_name}\")\n",
    "\n",
    "print(\"\\nWaiting for endpoint to deploy.  This can take 15 - 20 minutes.\", end=\"\")\n",
    "while w.serving_endpoints.get(deployment_info.endpoint_name).state.ready == EndpointStateReady.NOT_READY or w.serving_endpoints.get(deployment_info.endpoint_name).state.config_update == EndpointStateConfigUpdate.IN_PROGRESS:\n",
    "    print(\".\", end=\"\")\n",
    "    time.sleep(30)"
   ]
  }
 ],
 "metadata": {
  "application/vnd.databricks.v1+notebook": {
   "computePreferences": null,
   "dashboards": [],
   "environmentMetadata": {
    "base_environment": "",
    "environment_version": "2"
   },
   "inputWidgetPreferences": null,
   "language": "python",
   "notebookMetadata": {
    "pythonIndentUnit": 2
   },
   "notebookName": "driver.py",
   "widgets": {}
  },
  "language_info": {
   "name": "python"
  }
 },
 "nbformat": 4,
 "nbformat_minor": 0
}
