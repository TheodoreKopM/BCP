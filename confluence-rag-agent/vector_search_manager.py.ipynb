{
 "cells": [
  {
   "cell_type": "code",
   "execution_count": 0,
   "metadata": {
    "application/vnd.databricks.v1+cell": {
     "cellMetadata": {
      "byteLimit": 2048000,
      "rowLimit": 10000
     },
     "inputWidgets": {},
     "nuid": "0ab5ff61-b3f4-4d39-9d48-5a2271277fa0",
     "showTitle": false,
     "tableResultSettingsMap": {},
     "title": ""
    }
   },
   "outputs": [],
   "source": [
    "%pip install -qqqq -U databricks-vectorsearch mlflow mlflow-skinny"
   ]
  },
  {
   "cell_type": "code",
   "execution_count": 0,
   "metadata": {
    "application/vnd.databricks.v1+cell": {
     "cellMetadata": {
      "byteLimit": 2048000,
      "rowLimit": 10000
     },
     "inputWidgets": {},
     "nuid": "647c3fd2-ae4c-467e-bfdd-cab581c7dde5",
     "showTitle": false,
     "tableResultSettingsMap": {},
     "title": ""
    }
   },
   "outputs": [],
   "source": [
    "dbutils.library.restartPython()"
   ]
  },
  {
   "cell_type": "code",
   "execution_count": 0,
   "metadata": {
    "application/vnd.databricks.v1+cell": {
     "cellMetadata": {
      "byteLimit": 2048000,
      "rowLimit": 10000
     },
     "inputWidgets": {},
     "nuid": "0e46dac5-69d3-4001-aff4-8917d7f7067c",
     "showTitle": false,
     "tableResultSettingsMap": {},
     "title": ""
    }
   },
   "outputs": [],
   "source": [
    "from databricks.vector_search.client import VectorSearchClient\n",
    "from databricks.sdk.service.vectorsearch import EndpointType\n",
    "import yaml\n",
    "\n",
    "# Load configurations from YAML files\n",
    "def load_config(config_file):\n",
    "    with open(config_file, 'r') as f:\n",
    "        return yaml.safe_load(f)\n",
    "\n",
    "# Load configurations\n",
    "rag_chain_config = load_config('rag_chain_config.yaml')\n",
    "data_pipeline_config = load_config('data_pipeline_config.yaml')\n",
    "destination_tables_config = load_config('destination_tables_config.yaml')\n",
    "\n",
    "# Get Vector Search configuration\n",
    "\n",
    "retriever_config = rag_chain_config.get('retriever_config')\n",
    "VECTOR_SEARCH_INDEX = retriever_config.get('vector_search_index')\n",
    "VECTOR_SEARCH_ENDPOINT = rag_chain_config.get('databricks_resources').get('vector_search_endpoint_name')\n",
    "\n",
    "def create_vector_search_endpoint():\n",
    "    \"\"\"Create the Vector Search endpoint if it doesn't exist.\"\"\"\n",
    "    vsc = VectorSearchClient(disable_notice=True)\n",
    "    \n",
    "    # Check if endpoint exists\n",
    "    endpoints = vsc.list_endpoints()\n",
    "    endpoint_exists = any(endpoint[\"name\"] == VECTOR_SEARCH_ENDPOINT for endpoint in endpoints.get(\"endpoints\", []))\n",
    "    \n",
    "    if not endpoint_exists:\n",
    "        print(f\"Creating Vector Search endpoint: {VECTOR_SEARCH_ENDPOINT}\")\n",
    "        vsc.create_endpoint_and_wait(VECTOR_SEARCH_ENDPOINT, endpoint_type=EndpointType.STANDARD.value)\n",
    "        print(\"Endpoint created successfully!\")\n",
    "    else:\n",
    "        print(f\"Endpoint {VECTOR_SEARCH_ENDPOINT} already exists.\")\n",
    "    print(f\"PASS: Vector Search endpoint `{VECTOR_SEARCH_ENDPOINT}` exists\")\n",
    "\n",
    "def create_vector_search_index():\n",
    "    \"\"\"Create the Vector Search index if it doesn't exist.\"\"\"\n",
    "    vsc = VectorSearchClient(disable_notice=True)\n",
    "    \n",
    "    # Check if index exists\n",
    "    indexes = vsc.list_indexes(name=VECTOR_SEARCH_ENDPOINT)\n",
    "    index_exists = any(index[\"name\"] == VECTOR_SEARCH_INDEX \n",
    "                      for index in indexes.get(\"vector_indexes\", []))\n",
    "    \n",
    "    if not index_exists:\n",
    "        print(\"Creating Vector Search Index, this can take 15 minutes or longer...\")\n",
    "        print(f'Check status at: {VECTOR_SEARCH_INDEX}')\n",
    "        \n",
    "        vsc.create_delta_sync_index_and_wait(\n",
    "            endpoint_name=VECTOR_SEARCH_ENDPOINT,\n",
    "            index_name=VECTOR_SEARCH_INDEX,\n",
    "            primary_key=\"chunk_id\",\n",
    "            source_table_name=destination_tables_config[\"chunked_docs_table_name\"].replace(\"`\", \"\"),\n",
    "            pipeline_type=data_pipeline_config[\"vectorsearch_config\"][\"pipeline_type\"],\n",
    "            embedding_source_column=\"chunked_text\",\n",
    "            embedding_model_endpoint_name=data_pipeline_config[\"embedding_config\"][\"embedding_endpoint_name\"]\n",
    "        )\n",
    "        print(\"Index created successfully!\")\n",
    "    else:\n",
    "        print(f\"Index {VECTOR_SEARCH_INDEX} already exists.\")\n",
    "\n",
    "def main():\n",
    "    \"\"\"Create Vector Search endpoint and index.\"\"\"\n",
    "    create_vector_search_endpoint()\n",
    "    create_vector_search_index()\n",
    "\n",
    "if __name__ == \"__main__\":\n",
    "    main()"
   ]
  }
 ],
 "metadata": {
  "application/vnd.databricks.v1+notebook": {
   "computePreferences": null,
   "dashboards": [],
   "environmentMetadata": {
    "base_environment": "",
    "environment_version": "2"
   },
   "inputWidgetPreferences": null,
   "language": "python",
   "notebookMetadata": {
    "pythonIndentUnit": 2
   },
   "notebookName": "vector_search_manager.py",
   "widgets": {}
  },
  "language_info": {
   "name": "python"
  }
 },
 "nbformat": 4,
 "nbformat_minor": 0
}
